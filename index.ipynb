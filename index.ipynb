{
 "cells": [
  {
   "cell_type": "markdown",
   "metadata": {},
   "source": [
    "# K3D Examples\n",
    "Try one of the examples below!"
   ]
  },
  {
   "cell_type": "code",
   "execution_count": 1,
   "metadata": {},
   "outputs": [
    {
     "data": {
      "text/markdown": [
       "-  <a href='examples/01_getting_started.ipynb' target='_blank'>01 getting started</a>\n",
       "-  <a href='examples/02_adding_objects_to_plot.ipynb' target='_blank'>02 adding objects to plot</a>\n",
       "-  <a href='examples/03_plotting_a_single_object.ipynb' target='_blank'>03 plotting a single object</a>\n",
       "-  <a href='examples/04_gui_basics.ipynb' target='_blank'>04 gui basics</a>\n",
       "-  <a href='examples/05_plot_options.ipynb' target='_blank'>05 plot options</a>\n",
       "-  <a href='examples/myvtkrenderer.ipynb' target='_blank'>GHALIB_VTK_RENDERER</a>\n",
       "-  <a href='examples/vtk.ipynb' target='_blank'>vtk</a>\n",
       "-  <a href='examples/vtk2.ipynb' target='_blank'>vtk2</a>"
      ],
      "text/plain": [
       "<IPython.core.display.Markdown object>"
      ]
     },
     "execution_count": 1,
     "metadata": {},
     "output_type": "execute_result"
    }
   ],
   "source": [
    "# just generating the list here, nothing to see...\n",
    "from IPython.display import Markdown\n",
    "from glob import glob\n",
    "\n",
    "Markdown(\"\\n\".join([\n",
    "    \"-  <a href='{1}' target='_blank'>{0}</a>\".format(x[9:-6].replace(\"_\", \" \"), x)\n",
    "    for x in sorted(glob(\"examples/*.ipynb\"))\n",
    "]))"
   ]
  },
  {
   "cell_type": "code",
   "execution_count": 2,
   "metadata": {},
   "outputs": [
    {
     "data": {
      "text/markdown": [
       "### Examples presented during Sage Days 74\n",
       "-  <a href='examples/SageDays74/Lorenz_system.ipynb' target='_blank'>SageDays74/Lorenz system</a>\n",
       "-  <a href='examples/SageDays74/Molecular_Dynamics_visualization-demo.ipynb' target='_blank'>SageDays74/Molecular Dynamics visualization-demo</a>\n",
       "-  <a href='examples/SageDays74/implicit_plot3d_interactive.ipynb' target='_blank'>SageDays74/implicit plot3d interactive</a>\n",
       "-  <a href='examples/SageDays74/line_animation_demo.ipynb' target='_blank'>SageDays74/line animation demo</a>\n",
       "-  <a href='examples/SageDays74/marching_cubes_level_interact.ipynb' target='_blank'>SageDays74/marching cubes level interact</a>\n",
       "-  <a href='examples/SageDays74/surface_interact.ipynb' target='_blank'>SageDays74/surface interact</a>"
      ],
      "text/plain": [
       "<IPython.core.display.Markdown object>"
      ]
     },
     "execution_count": 2,
     "metadata": {},
     "output_type": "execute_result"
    }
   ],
   "source": [
    "Markdown(\"### Examples presented during Sage Days 74\\n\"+\"\\n\".join([\n",
    "    \"-  <a href='{1}' target='_blank'>{0}</a>\".format(x[9:-6].replace(\"_\", \" \"), x)\n",
    "    for x in sorted(glob(\"examples/SageDays74/*.ipynb\"))\n",
    "]))"
   ]
  },
  {
   "cell_type": "code",
   "execution_count": null,
   "metadata": {},
   "outputs": [],
   "source": []
  }
 ],
 "metadata": {
  "kernelspec": {
   "display_name": "Python 3",
   "language": "python",
   "name": "python3"
  },
  "language_info": {
   "codemirror_mode": {
    "name": "ipython",
    "version": 3
   },
   "file_extension": ".py",
   "mimetype": "text/x-python",
   "name": "python",
   "nbconvert_exporter": "python",
   "pygments_lexer": "ipython3",
   "version": "3.4.5"
  }
 },
 "nbformat": 4,
 "nbformat_minor": 1
}
