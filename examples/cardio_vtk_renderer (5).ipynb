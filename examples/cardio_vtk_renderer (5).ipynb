{
 "cells": [
  {
   "cell_type": "markdown",
   "metadata": {},
   "source": [
    "# Importing and displaying VTK data"
   ]
  },
  {
   "cell_type": "markdown",
   "metadata": {},
   "source": [
    "### Import required libraries:"
   ]
  },
  {
   "cell_type": "code",
   "execution_count": 1,
   "metadata": {},
   "outputs": [],
   "source": [
    "import os\n",
    "import vtk\n",
    "import numpy as np\n",
    "from vtk.util import numpy_support\n",
    "import k3d\n",
    "from k3d.helpers import download\n",
    "from ipywidgets import interact, interact_manual, interactive, HBox, VBox\n",
    "from ipywidgets import widgets\n",
    "import matplotlib.pyplot as pl"
   ]
  },
  {
   "cell_type": "markdown",
   "metadata": {},
   "source": [
    "Load vtk as vtp file (see Paraview manual for description of this file format):"
   ]
  },
  {
   "cell_type": "markdown",
   "metadata": {},
   "source": [
    "### Initialize user interface:"
   ]
  },
  {
   "cell_type": "code",
   "execution_count": 13,
   "metadata": {},
   "outputs": [
    {
     "data": {
      "application/vnd.jupyter.widget-view+json": {
       "model_id": "f41d27e563e74b61bc3498aa96b9caba",
       "version_major": 2,
       "version_minor": 0
      },
      "text/plain": [
       "Output()"
      ]
     },
     "metadata": {},
     "output_type": "display_data"
    },
    {
     "data": {
      "application/vnd.jupyter.widget-view+json": {
       "model_id": "5e3aa0eb9f4a4ec4977a0a54c9236351",
       "version_major": 2,
       "version_minor": 0
      },
      "text/plain": [
       "interactive(children=(Checkbox(value=True, description='Display RV?'), Output()), _dom_classes=('widget-intera…"
      ]
     },
     "metadata": {},
     "output_type": "display_data"
    },
    {
     "data": {
      "application/vnd.jupyter.widget-view+json": {
       "model_id": "a7947204d0ae4f1ea4ae5a27d9594ba0",
       "version_major": 2,
       "version_minor": 0
      },
      "text/plain": [
       "interactive(children=(Dropdown(description='Mesh map to display:', options=('WallThickness', 'SystolicExcursio…"
      ]
     },
     "metadata": {},
     "output_type": "display_data"
    },
    {
     "data": {
      "application/vnd.jupyter.widget-view+json": {
       "model_id": "9b85391d30a74e0a8f12cfda745a0381",
       "version_major": 2,
       "version_minor": 0
      },
      "text/plain": [
       "interactive(children=(Select(description='ColorMap', options=('RdBu', 'PuOr', 'Blues', 'RdYlGn', 'RdGy', 'YlOr…"
      ]
     },
     "metadata": {},
     "output_type": "display_data"
    }
   ],
   "source": [
    "#cms = [attr for attr in dir(k3d.colormaps.matplotlib_color_maps) if not attr.startswith('__')]\n",
    "cms = ['RdBu','PuOr','Blues','RdYlGn','RdGy','YlOrBr']\n",
    "vtpdir = 'https://raw.githubusercontent.com/ghalib-bello/myK3D-jupyter/master/examples/'\n",
    "vtp_dict_urls = {'WallThickness':'exampleLV_wallthick.vtp', \n",
    "                 'SystolicExcursion':'exampleLV_distprof.vtp',\n",
    "                 'Strain': 'exampleLV_Property3.vtp'}\n",
    "vtp_dict = dict()\n",
    "for ky in list(vtp_dict_urls.keys()):\n",
    "    vtp_dict[ky]=download(vtpdir+vtp_dict_urls[ky])\n",
    "vtp_dict_keys = list(vtp_dict.keys())\n",
    "\n",
    "RVreader = vtk.vtkXMLPolyDataReader()\n",
    "RVreader.SetFileName(download(vtpdir+'exampleRV_endo.vtp'))\n",
    "RVreader.Update()\n",
    "RVvtk = RVreader.GetOutput()\n",
    "RVmesh = k3d.vtk_poly_data(RVvtk, wireframe=True, color=0xD3D3D3, visible=False)\n",
    "\n",
    "plot2 = k3d.plot()\n",
    "plot2.wireframe=True\n",
    "#plot2 += RVmesh\n",
    "plot2.display()\n",
    "\n",
    "maps =widgets.Dropdown(options=vtp_dict_keys, value=vtp_dict_keys[0], description='Mesh map to display:')\n",
    "cmsel=widgets.Select(options=cms,value=cms[0],description='ColorMap', rows=len(cms))\n",
    "\n",
    "@interact(x=widgets.Checkbox(value=True,description='Display RV?'))\n",
    "def f(x):\n",
    "    global plot2\n",
    "    if len(plot2.objects)==2:\n",
    "        plot2.objects[1].visible=x\n",
    "#    if x & len(plot2.objects)==1:\n",
    "#        plot2 += RVmesh\n",
    "#    elif not x & len(plot2.objects)==2:\n",
    "#        plot2 -= RVmesh\n",
    "#    else: pass\n",
    "\n",
    "@interact(x=maps)\n",
    "def plot(x):\n",
    "    filename = vtp_dict[x]\n",
    "    reader = vtk.vtkXMLPolyDataReader()\n",
    "    reader.SetFileName(filename)\n",
    "    reader.Update()\n",
    "\n",
    "    sh2 = reader.GetOutput()\n",
    "    scvtk = sh2.GetPointData().GetScalars()\n",
    "    sc = numpy_support.vtk_to_numpy(scvtk)\n",
    "    scmin, scmax = np.min(sc), np.max(sc)\n",
    "\n",
    "    global plot2\n",
    "    if len(plot2.objects)>0:\n",
    "        for obj in plot2.objects:\n",
    "            plot2 -= obj\n",
    "            \n",
    "    LVmesh = k3d.vtk_poly_data(sh2,\n",
    "                             color_attribute=(scvtk.GetName(),scmin, scmax),\n",
    "                             color_map=getattr(k3d.matplotlib_color_maps, cmsel.value),\n",
    "                             color_range=[scmin, scmax])\n",
    "    plot2 += LVmesh\n",
    "    plot2 += RVmesh\n",
    "\n",
    "        \n",
    "@interact(x=cmsel)\n",
    "def g(x):\n",
    "    if len(plot2.objects)>0:\n",
    "        lvobj=plot2.objects[0]\n",
    "        lvobj.color_map = getattr(k3d.matplotlib_color_maps, x)\n",
    "        a = np.array([lvobj.color_range])\n",
    "        pl.figure(figsize=(9, 0.5))\n",
    "        img = pl.imshow(a, cmap=x)\n",
    "        pl.gca().set_visible(False)\n",
    "        cax = pl.axes([0.1, 0.2, 0.8, 0.6])\n",
    "        pl.colorbar(orientation=\"horizontal\", cax=cax)\n"
   ]
  },
  {
   "cell_type": "code",
   "execution_count": null,
   "metadata": {},
   "outputs": [],
   "source": [
    "dir(k3d.colormaps.matplotlib_color_maps)"
   ]
  },
  {
   "cell_type": "code",
   "execution_count": null,
   "metadata": {},
   "outputs": [],
   "source": [
    "plot2.object_ids"
   ]
  },
  {
   "cell_type": "code",
   "execution_count": null,
   "metadata": {},
   "outputs": [],
   "source": [
    "print(widg.Output())"
   ]
  },
  {
   "cell_type": "code",
   "execution_count": null,
   "metadata": {},
   "outputs": [],
   "source": [
    "plot2.display()\n",
    "plot2.objects[0].color_map=k3d.colormaps.paraview_color_maps.Blue_to_Yellow\n",
    "plot2.display()\n",
    "plot2.close()"
   ]
  },
  {
   "cell_type": "code",
   "execution_count": null,
   "metadata": {},
   "outputs": [],
   "source": [
    "vertices=[-10,0,-1,\n",
    "           10,0,-1,\n",
    "           10,0, 1,\n",
    "          -10,0, 1]\n",
    "indices=[0,1,3,1,2,3]\n",
    "plot2 += k3d.mesh(vertices,indices,color_map=getattr(k3d.paraview_color_maps, cms[6]))"
   ]
  },
  {
   "cell_type": "code",
   "execution_count": null,
   "metadata": {},
   "outputs": [],
   "source": [
    "plot2.objects[-1].color_map = getattr(k3d.paraview_color_maps, cms[0])"
   ]
  },
  {
   "cell_type": "code",
   "execution_count": null,
   "metadata": {},
   "outputs": [],
   "source": [
    "getattr(k3d.paraview_color_maps, cms[0])"
   ]
  }
 ],
 "metadata": {
  "kernelspec": {
   "display_name": "Python 3",
   "language": "python",
   "name": "python3"
  },
  "language_info": {
   "codemirror_mode": {
    "name": "ipython",
    "version": 3
   },
   "file_extension": ".py",
   "mimetype": "text/x-python",
   "name": "python",
   "nbconvert_exporter": "python",
   "pygments_lexer": "ipython3",
   "version": "3.6.5"
  }
 },
 "nbformat": 4,
 "nbformat_minor": 2
}
