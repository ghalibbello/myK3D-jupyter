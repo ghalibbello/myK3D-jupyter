{
 "cells": [
  {
   "cell_type": "markdown",
   "metadata": {},
   "source": [
    "# Importing and displaying VTK data"
   ]
  },
  {
   "cell_type": "markdown",
   "metadata": {},
   "source": [
    "Import required libraries:"
   ]
  },
  {
   "cell_type": "code",
   "execution_count": null,
   "metadata": {},
   "outputs": [],
   "source": [
    "import os\n",
    "import vtk\n",
    "import numpy as np\n",
    "from vtk.util import numpy_support\n",
    "import k3d\n",
    "from k3d.helpers import download\n",
    "from ipywidgets import interact, interact_manual, interactive, HBox, VBox\n",
    "from ipywidgets import widgets"
   ]
  },
  {
   "cell_type": "markdown",
   "metadata": {},
   "source": [
    "Load vtk as vtp file (see Paraview manual for description of this file format):"
   ]
  },
  {
   "cell_type": "code",
   "execution_count": null,
   "metadata": {},
   "outputs": [],
   "source": [
    "filename = download('https://raw.githubusercontent.com/ghalib-bello/myK3D-jupyter/master/examples/Xmean3.vtp')\n",
    "\n",
    "reader = vtk.vtkXMLPolyDataReader()\n",
    "reader.SetFileName(filename)\n",
    "reader.Update()\n",
    "sh2 = reader.GetOutput()"
   ]
  },
  {
   "cell_type": "markdown",
   "metadata": {},
   "source": [
    "Run interface:"
   ]
  },
  {
   "cell_type": "code",
   "execution_count": null,
   "metadata": {},
   "outputs": [],
   "source": [
    "newscalars1 = numpy_support.numpy_to_vtk(np.arange(18028.))\n",
    "newscalars1.SetName('wt1')\n",
    "\n",
    "newscalars2 = numpy_support.numpy_to_vtk(np.arange(18028.)[::-1])\n",
    "newscalars2.SetName('wt2')\n",
    "\n",
    "scalar_dict = {'wt1':newscalars1, 'wt2':newscalars2}\n",
    "\n",
    "maps=widgets.Dropdown(options=['wt1', 'wt2'], value='wt1', description='Mesh map to display:')\n",
    "button = widgets.Button(description='Plot')\n",
    "@button.on_click\n",
    "def run_on_click(b):\n",
    "    plot()\n",
    "    \n",
    "def plot(b=None):\n",
    "    mapid = maps.value\n",
    "    newscalars = scalar_dict[mapid]\n",
    "    sh2.GetPointData().SetScalars(newscalars)\n",
    "    sh2.Modified()\n",
    "    plot2 = k3d.plot()\n",
    "    plot2.wireframe=True\n",
    "    plot2 += k3d.vtk_poly_data(sh2, color_attribute=(mapid,0,18028))\n",
    "    plot2.display()\n",
    "\n",
    "interface = HBox(children=[maps, button])\n",
    "interface"
   ]
  }
 ],
 "metadata": {
  "kernelspec": {
   "display_name": "Python 3",
   "language": "python",
   "name": "python3"
  },
  "language_info": {
   "codemirror_mode": {
    "name": "ipython",
    "version": 3
   },
   "file_extension": ".py",
   "mimetype": "text/x-python",
   "name": "python",
   "nbconvert_exporter": "python",
   "pygments_lexer": "ipython3",
   "version": "3.6.6"
  }
 },
 "nbformat": 4,
 "nbformat_minor": 2
}
