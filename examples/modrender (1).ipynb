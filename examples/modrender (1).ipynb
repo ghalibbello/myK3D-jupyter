{
 "cells": [
  {
   "cell_type": "markdown",
   "metadata": {},
   "source": [
    "# Importing and displaying VTK data"
   ]
  },
  {
   "cell_type": "markdown",
   "metadata": {},
   "source": [
    "Import required libraries:"
   ]
  },
  {
   "cell_type": "code",
   "execution_count": 23,
   "metadata": {},
   "outputs": [],
   "source": [
    "import os\n",
    "import vtk\n",
    "import numpy as np\n",
    "from vtk.util import numpy_support\n",
    "import k3d\n",
    "from k3d.helpers import download\n",
    "from ipywidgets import interact, interact_manual, interactive, HBox, VBox\n",
    "from ipywidgets import widgets"
   ]
  },
  {
   "cell_type": "markdown",
   "metadata": {},
   "source": [
    "Load vtk as vtp file (see Paraview manual for description of this file format):"
   ]
  },
  {
   "cell_type": "code",
   "execution_count": 30,
   "metadata": {},
   "outputs": [
    {
     "name": "stdout",
     "output_type": "stream",
     "text": [
      "WallThickness\n",
      "0.0\n",
      "9.3947\n",
      "[0, 0.23137254902, 0.298039215686, 0.752941176471, 0.5, 0.865, 0.865, 0.865, 1, 0.705882352941, 0.0156862745098, 0.149019607843]\n"
     ]
    },
    {
     "data": {
      "application/vnd.jupyter.widget-view+json": {
       "model_id": "18e97806011842d780fc818a7aedbd1e",
       "version_major": 2,
       "version_minor": 0
      },
      "text/plain": [
       "Output()"
      ]
     },
     "metadata": {},
     "output_type": "display_data"
    }
   ],
   "source": [
    "CoolWarm = [\n",
    "    0, 0.23137254902, 0.298039215686, 0.752941176471,\n",
    "    0.5, 0.865, 0.865, 0.865,\n",
    "    1, 0.705882352941, 0.0156862745098, 0.149019607843\n",
    "]\n",
    "\n",
    "filename = download('https://raw.githubusercontent.com/ghalib-bello/myK3D-jupyter/master/examples/meanHVOLs.vtp')\n",
    "\n",
    "reader = vtk.vtkXMLPolyDataReader()\n",
    "reader.SetFileName(filename)\n",
    "reader.Update()\n",
    "sh2 = reader.GetOutput()\n",
    "scvtk = sh2.GetPointData().GetScalars()\n",
    "sc = numpy_support.vtk_to_numpy(scvtk)\n",
    "print(scvtk.GetName())\n",
    "print(np.min(sc))\n",
    "print(np.max(sc))\n",
    "#CoolWarm[0] = np.min(sc)\n",
    "#CoolWarm[4] = np.min(sc) + 0.5*(np.max(sc)-np.min(sc))\n",
    "#CoolWarm[8] = np.max(sc)\n",
    "print(CoolWarm)\n",
    "#sh2.GetPointData().SetScalars(sc)\n",
    "#sh2.Modified()\n",
    "plot = k3d.plot()\n",
    "plot.wireframe = True\n",
    "plot += k3d.vtk_poly_data(sh2, color_attribute=(sh2.GetPointData().GetScalars().GetName(),np.min(sc),np.max(sc)), \n",
    "                          color_map=CoolWarm)\n",
    "plot.display()"
   ]
  },
  {
   "cell_type": "markdown",
   "metadata": {},
   "source": [
    "Run interface:"
   ]
  },
  {
   "cell_type": "code",
   "execution_count": 17,
   "metadata": {},
   "outputs": [
    {
     "data": {
      "application/vnd.jupyter.widget-view+json": {
       "model_id": "0d732c063ede4940851c7699a9406d44",
       "version_major": 2,
       "version_minor": 0
      },
      "text/html": [
       "<p>Failed to display Jupyter Widget of type <code>HBox</code>.</p>\n",
       "<p>\n",
       "  If you're reading this message in the Jupyter Notebook or JupyterLab Notebook, it may mean\n",
       "  that the widgets JavaScript is still loading. If this message persists, it\n",
       "  likely means that the widgets JavaScript library is either not installed or\n",
       "  not enabled. See the <a href=\"https://ipywidgets.readthedocs.io/en/stable/user_install.html\">Jupyter\n",
       "  Widgets Documentation</a> for setup instructions.\n",
       "</p>\n",
       "<p>\n",
       "  If you're reading this message in another frontend (for example, a static\n",
       "  rendering on GitHub or <a href=\"https://nbviewer.jupyter.org/\">NBViewer</a>),\n",
       "  it may mean that your frontend doesn't currently support widgets.\n",
       "</p>\n"
      ],
      "text/plain": [
       "HBox(children=(Dropdown(description='Mesh map to display:', options=('wt1', 'wt2'), value='wt1'), Button(description='Plot', style=ButtonStyle())))"
      ]
     },
     "metadata": {},
     "output_type": "display_data"
    },
    {
     "data": {
      "application/vnd.jupyter.widget-view+json": {
       "model_id": "940a3818f29a4dc2b248d299ed8cbe79",
       "version_major": 2,
       "version_minor": 0
      },
      "text/html": [
       "<p>Failed to display Jupyter Widget of type <code>Output</code>.</p>\n",
       "<p>\n",
       "  If you're reading this message in the Jupyter Notebook or JupyterLab Notebook, it may mean\n",
       "  that the widgets JavaScript is still loading. If this message persists, it\n",
       "  likely means that the widgets JavaScript library is either not installed or\n",
       "  not enabled. See the <a href=\"https://ipywidgets.readthedocs.io/en/stable/user_install.html\">Jupyter\n",
       "  Widgets Documentation</a> for setup instructions.\n",
       "</p>\n",
       "<p>\n",
       "  If you're reading this message in another frontend (for example, a static\n",
       "  rendering on GitHub or <a href=\"https://nbviewer.jupyter.org/\">NBViewer</a>),\n",
       "  it may mean that your frontend doesn't currently support widgets.\n",
       "</p>\n"
      ],
      "text/plain": [
       "Output()"
      ]
     },
     "metadata": {},
     "output_type": "display_data"
    }
   ],
   "source": [
    "newscalars1 = numpy_support.numpy_to_vtk(np.arange(18028.))\n",
    "newscalars1.SetName('wt1')\n",
    "\n",
    "newscalars2 = numpy_support.numpy_to_vtk(np.arange(18028.)[::-1])\n",
    "newscalars2.SetName('wt2')\n",
    "\n",
    "scalar_dict = {'wt1':newscalars1, 'wt2':newscalars2}\n",
    "plot2 = k3d.plot()\n",
    "plot2.wireframe=True\n",
    "\n",
    "maps=widgets.Dropdown(options=['wt1', 'wt2'], value='wt1', description='Mesh map to display:')\n",
    "button = widgets.Button(description='Plot')\n",
    "@button.on_click\n",
    "def run_on_click(b):\n",
    "    plot()\n",
    "    \n",
    "def plot(b=None):\n",
    "    mapid = maps.value\n",
    "    newscalars = scalar_dict[mapid]\n",
    "    sh2.GetPointData().SetScalars(newscalars)\n",
    "    sh2.Modified()\n",
    "    global plot2\n",
    "    plot2.close()\n",
    "    plot2 = k3d.plot()\n",
    "    plot2.wireframe=True\n",
    "    plot2 += k3d.vtk_poly_data(sh2, color_attribute=(mapid,0,18028))\n",
    "    plot2.display()\n",
    "\n",
    "interface = HBox(children=[maps, button])\n",
    "interface"
   ]
  },
  {
   "cell_type": "code",
   "execution_count": 14,
   "metadata": {},
   "outputs": [
    {
     "name": "stdout",
     "output_type": "stream",
     "text": [
      "Output()\n"
     ]
    }
   ],
   "source": [
    "print(widg.Output())"
   ]
  },
  {
   "cell_type": "code",
   "execution_count": null,
   "metadata": {},
   "outputs": [],
   "source": []
  }
 ],
 "metadata": {
  "kernelspec": {
   "display_name": "Python 3",
   "language": "python",
   "name": "python3"
  },
  "language_info": {
   "codemirror_mode": {
    "name": "ipython",
    "version": 3
   },
   "file_extension": ".py",
   "mimetype": "text/x-python",
   "name": "python",
   "nbconvert_exporter": "python",
   "pygments_lexer": "ipython3",
   "version": "3.6.3"
  }
 },
 "nbformat": 4,
 "nbformat_minor": 2
}
