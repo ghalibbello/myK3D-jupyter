{
 "cells": [
  {
   "cell_type": "markdown",
   "metadata": {},
   "source": [
    "# Importing and displaying VTK data"
   ]
  },
  {
   "cell_type": "markdown",
   "metadata": {},
   "source": [
    "### Import required libraries:"
   ]
  },
  {
   "cell_type": "code",
   "execution_count": null,
   "metadata": {},
   "outputs": [],
   "source": [
    "import os\n",
    "import vtk\n",
    "import numpy as np\n",
    "from vtk.util import numpy_support\n",
    "import k3d\n",
    "from k3d.helpers import download\n",
    "from ipywidgets import interact, interact_manual, interactive, HBox, VBox\n",
    "from ipywidgets import widgets\n",
    "import matplotlib.pyplot as pl"
   ]
  },
  {
   "cell_type": "markdown",
   "metadata": {},
   "source": [
    "Load vtk as vtp file (see Paraview manual for description of this file format):"
   ]
  },
  {
   "cell_type": "markdown",
   "metadata": {},
   "source": [
    "### Initialize user interface:"
   ]
  },
  {
   "cell_type": "code",
   "execution_count": 45,
   "metadata": {},
   "outputs": [
    {
     "data": {
      "application/vnd.jupyter.widget-view+json": {
       "model_id": "cb6b685a14224e8d8dc29c93475424cd",
       "version_major": 2,
       "version_minor": 0
      },
      "text/plain": [
       "Output()"
      ]
     },
     "metadata": {},
     "output_type": "display_data"
    },
    {
     "data": {
      "application/vnd.jupyter.widget-view+json": {
       "model_id": "a48062d6c585483cabb7695f34d113c7",
       "version_major": 2,
       "version_minor": 0
      },
      "text/plain": [
       "interactive(children=(Checkbox(value=True, description='Display RV?'), Output()), _dom_classes=('widget-intera…"
      ]
     },
     "metadata": {},
     "output_type": "display_data"
    },
    {
     "data": {
      "application/vnd.jupyter.widget-view+json": {
       "model_id": "f67590a1f1e94d69b7a4d221809dedcb",
       "version_major": 2,
       "version_minor": 0
      },
      "text/plain": [
       "interactive(children=(Dropdown(description='Mesh map to display:', options=('WallThickness', 'SystolicExcursio…"
      ]
     },
     "metadata": {},
     "output_type": "display_data"
    },
    {
     "data": {
      "text/plain": [
       "'        \\n@interact(x=cmsel)\\ndef g(x):\\n    if len(plot2.objects)>0:\\n        lvobj=plot2.objects[0]\\n        lvobj.color_map = getattr(k3d.matplotlib_color_maps, x)\\n        a = np.array([lvobj.color_range])\\n        pl.figure(figsize=(9, 0.5))\\n        img = pl.imshow(a, cmap=x)\\n        pl.gca().set_visible(False)\\n        cax = pl.axes([0.1, 0.2, 0.8, 0.6])\\n        pl.colorbar(orientation=\"horizontal\", cax=cax)\\n'"
      ]
     },
     "execution_count": 45,
     "metadata": {},
     "output_type": "execute_result"
    }
   ],
   "source": [
    "#cms = [attr for attr in dir(k3d.colormaps.matplotlib_color_maps) if not attr.startswith('__')]\n",
    "cms = ['RdBu','PuOr','Blues','RdYlGn','RdGy','YlOrBr']\n",
    "vtpdir = 'https://raw.githubusercontent.com/ghalib-bello/myK3D-jupyter/master/examples/'\n",
    "vtp_dict_urls = {'WallThickness':'exampleLV_wallthick.vtp', \n",
    "                 'SystolicExcursion':'exampleLV_distprof.vtp',\n",
    "                 'Strain': 'exampleLV_Property3.vtp'}\n",
    "vtp_dict = dict()\n",
    "for ky in list(vtp_dict_urls.keys()):\n",
    "    filename = download(vtpdir+vtp_dict_urls[ky])\n",
    "    LVreader = vtk.vtkXMLPolyDataReader()\n",
    "    LVreader.SetFileName(filename)\n",
    "    LVreader.Update()\n",
    "    vtp_dict[ky]=LVreader.GetOutput()\n",
    "vtp_dict_keys = list(vtp_dict.keys())\n",
    "\n",
    "RVreader = vtk.vtkXMLPolyDataReader()\n",
    "RVreader.SetFileName(download(vtpdir+'exampleRV_endo.vtp'))\n",
    "RVreader.Update()\n",
    "RVvtk = RVreader.GetOutput()\n",
    "RVmesh = k3d.vtk_poly_data(RVvtk, wireframe=True, color=0xD3D3D3, visible=False)\n",
    "\n",
    "plot2 = k3d.plot()\n",
    "plot2.wireframe=True\n",
    "#plot2 += RVmesh\n",
    "plot2.display()\n",
    "\n",
    "maps =widgets.Dropdown(options=vtp_dict_keys, value=vtp_dict_keys[0], description='Mesh map to display:')\n",
    "cmsel=widgets.Select(options=cms,value=cms[0],description='ColorMap', rows=len(cms))\n",
    "disprv=widgets.Checkbox(value=True,description='Display RV?')\n",
    "\n",
    "mapsel = '_null_'\n",
    "\n",
    "@interact(x=disprv)\n",
    "def f(x):\n",
    "    global plot2\n",
    "    if len(plot2.objects)==2:\n",
    "        plot2.objects[1].visible=x\n",
    "#    if x & len(plot2.objects)==1:\n",
    "#        plot2 += RVmesh\n",
    "#    elif not x & len(plot2.objects)==2:\n",
    "#        plot2 -= RVmesh\n",
    "#    else: pass\n",
    "\n",
    "@interact(x=maps, y=cmsel)\n",
    "def plot(x, y):\n",
    "    sh2 = vtp_dict[x]\n",
    "    scvtk = sh2.GetPointData().GetScalars()\n",
    "    sc = numpy_support.vtk_to_numpy(scvtk)\n",
    "    scmin, scmax = np.min(sc), np.max(sc)\n",
    "\n",
    "    global plot2\n",
    "    numobj=len(plot2.objects)\n",
    "    if numobj>0:\n",
    "        for i in range(numobj): plot2 -= plot2.objects[-1]\n",
    "            \n",
    "    print(len(plot2.objects))\n",
    "\n",
    "    LVmesh = k3d.vtk_poly_data(sh2,\n",
    "                             color_attribute=(scvtk.GetName(),scmin, scmax),\n",
    "                             color_map=getattr(k3d.matplotlib_color_maps, cmsel.value),\n",
    "                             color_range=[scmin, scmax])\n",
    "    plot2 += LVmesh\n",
    "    plot2 += RVmesh\n",
    "\n",
    "    lvobj=plot2.objects[0]\n",
    "    lvobj.color_map = getattr(k3d.matplotlib_color_maps, y)\n",
    "    a = np.array([lvobj.color_range])\n",
    "    pl.figure(figsize=(9, 0.5))\n",
    "    img = pl.imshow(a, cmap=y)\n",
    "    pl.gca().set_visible(False)\n",
    "    cax = pl.axes([0.1, 0.2, 0.8, 0.6])\n",
    "    pl.colorbar(orientation=\"horizontal\", cax=cax)\n",
    "\n",
    "\"\"\"        \n",
    "@interact(x=cmsel)\n",
    "def g(x):\n",
    "    if len(plot2.objects)>0:\n",
    "        lvobj=plot2.objects[0]\n",
    "        lvobj.color_map = getattr(k3d.matplotlib_color_maps, x)\n",
    "        a = np.array([lvobj.color_range])\n",
    "        pl.figure(figsize=(9, 0.5))\n",
    "        img = pl.imshow(a, cmap=x)\n",
    "        pl.gca().set_visible(False)\n",
    "        cax = pl.axes([0.1, 0.2, 0.8, 0.6])\n",
    "        pl.colorbar(orientation=\"horizontal\", cax=cax)\n",
    "\"\"\""
   ]
  },
  {
   "cell_type": "code",
   "execution_count": null,
   "metadata": {},
   "outputs": [],
   "source": [
    "plot2.objects[-1].color_map = getattr(k3d.paraview_color_maps, cms[0])"
   ]
  },
  {
   "cell_type": "code",
   "execution_count": 41,
   "metadata": {},
   "outputs": [
    {
     "ename": "IndexError",
     "evalue": "list index out of range",
     "output_type": "error",
     "traceback": [
      "\u001b[0;31m---------------------------------------------------------------------------\u001b[0m",
      "\u001b[0;31mIndexError\u001b[0m                                Traceback (most recent call last)",
      "\u001b[0;32m<ipython-input-41-d15524facfce>\u001b[0m in \u001b[0;36m<module>\u001b[0;34m()\u001b[0m\n\u001b[0;32m----> 1\u001b[0;31m \u001b[0mplot2\u001b[0m \u001b[0;34m-=\u001b[0m \u001b[0mplot2\u001b[0m\u001b[0;34m.\u001b[0m\u001b[0mobjects\u001b[0m\u001b[0;34m[\u001b[0m\u001b[0;36m0\u001b[0m\u001b[0;34m]\u001b[0m\u001b[0;34m\u001b[0m\u001b[0m\n\u001b[0m",
      "\u001b[0;31mIndexError\u001b[0m: list index out of range"
     ]
    }
   ],
   "source": [
    "plot2 -= plot2.objects[0]"
   ]
  }
 ],
 "metadata": {
  "kernelspec": {
   "display_name": "Python 3",
   "language": "python",
   "name": "python3"
  },
  "language_info": {
   "codemirror_mode": {
    "name": "ipython",
    "version": 3
   },
   "file_extension": ".py",
   "mimetype": "text/x-python",
   "name": "python",
   "nbconvert_exporter": "python",
   "pygments_lexer": "ipython3",
   "version": "3.6.5"
  }
 },
 "nbformat": 4,
 "nbformat_minor": 2
}
