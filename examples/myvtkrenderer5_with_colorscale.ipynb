{
 "cells": [
  {
   "cell_type": "markdown",
   "metadata": {},
   "source": [
    "# Importing and displaying VTK data"
   ]
  },
  {
   "cell_type": "markdown",
   "metadata": {},
   "source": [
    "Import required libraries:"
   ]
  },
  {
   "cell_type": "code",
   "execution_count": 1,
   "metadata": {},
   "outputs": [],
   "source": [
    "import os\n",
    "import vtk\n",
    "import numpy as np\n",
    "from vtk.util import numpy_support\n",
    "import k3d\n",
    "from k3d.helpers import download\n",
    "from ipywidgets import interact, interact_manual, interactive, HBox, VBox\n",
    "from ipywidgets import widgets\n",
    "import matplotlib.pyplot as pl"
   ]
  },
  {
   "cell_type": "markdown",
   "metadata": {},
   "source": [
    "Load vtk as vtp file (see Paraview manual for description of this file format):"
   ]
  },
  {
   "cell_type": "code",
   "execution_count": 2,
   "metadata": {},
   "outputs": [],
   "source": [
    "filename = download('https://raw.githubusercontent.com/ghalib-bello/myK3D-jupyter/master/examples/Xmean3.vtp')\n",
    "\n",
    "reader = vtk.vtkXMLPolyDataReader()\n",
    "reader.SetFileName(filename)\n",
    "reader.Update()\n",
    "sh2 = reader.GetOutput()"
   ]
  },
  {
   "cell_type": "markdown",
   "metadata": {},
   "source": [
    "Run interface:"
   ]
  },
  {
   "cell_type": "code",
   "execution_count": 4,
   "metadata": {},
   "outputs": [
    {
     "data": {
      "application/vnd.jupyter.widget-view+json": {
       "model_id": "4533705e8bd741f69b6010622e363ac1",
       "version_major": 2,
       "version_minor": 0
      },
      "text/plain": [
       "HBox(children=(Dropdown(description='Mesh map to display:', options=('wt1', 'wt2'), value='wt1'), Button(descr…"
      ]
     },
     "metadata": {},
     "output_type": "display_data"
    },
    {
     "data": {
      "application/vnd.jupyter.widget-view+json": {
       "model_id": "6dc7c8e0ebc64c83af8f09a2e1c71e2f",
       "version_major": 2,
       "version_minor": 0
      },
      "text/plain": [
       "interactive(children=(Checkbox(value=False, description='Wireframe?'), Output()), _dom_classes=('widget-intera…"
      ]
     },
     "metadata": {},
     "output_type": "display_data"
    },
    {
     "data": {
      "application/vnd.jupyter.widget-view+json": {
       "model_id": "0aa7c7fbfe3146b5a3b31df62eab70d3",
       "version_major": 2,
       "version_minor": 0
      },
      "text/plain": [
       "interactive(children=(Checkbox(value=True, description='Visible?'), Output()), _dom_classes=('widget-interact'…"
      ]
     },
     "metadata": {},
     "output_type": "display_data"
    },
    {
     "data": {
      "application/vnd.jupyter.widget-view+json": {
       "model_id": "71f1342109dd42d3b3750d8b17504914",
       "version_major": 2,
       "version_minor": 0
      },
      "text/plain": [
       "interactive(children=(Select(description='ColorMap', options=('Accent', 'Autumn', 'Binary', 'Blues', 'Bone', '…"
      ]
     },
     "metadata": {},
     "output_type": "display_data"
    },
    {
     "data": {
      "application/vnd.jupyter.widget-view+json": {
       "model_id": "734f3e66bccf4e1da9779ab0d76308fc",
       "version_major": 2,
       "version_minor": 0
      },
      "text/plain": [
       "Output()"
      ]
     },
     "metadata": {},
     "output_type": "display_data"
    }
   ],
   "source": [
    "cms = [attr for attr in dir(k3d.colormaps.matplotlib_color_maps) if not attr.startswith('__')]\n",
    "\n",
    "\n",
    "\n",
    "newscalars1 = numpy_support.numpy_to_vtk(np.arange(18028.))\n",
    "newscalars1.SetName('wt1')\n",
    "\n",
    "newscalars2 = numpy_support.numpy_to_vtk(np.arange(18028.)[::-1])\n",
    "newscalars2.SetName('wt2')\n",
    "\n",
    "scalar_dict = {'wt1':newscalars1, 'wt2':newscalars2}\n",
    "plot2 = k3d.plot()\n",
    "plot2.wireframe=True\n",
    "\n",
    "maps=widgets.Dropdown(options=['wt1', 'wt2'], value='wt1', description='Mesh map to display:')\n",
    "button = widgets.Button(description='Plot')\n",
    "cmsel=widgets.Select(options=cms,value=cms[0],description='ColorMap')\n",
    "vertex_attribute = [0, 1, 1, 0]\n",
    "\n",
    "@button.on_click\n",
    "def run_on_click(b):\n",
    "    plot()\n",
    "    \n",
    "def plot(b=None):\n",
    "    mapid = maps.value\n",
    "    newscalars = scalar_dict[mapid]\n",
    "    sh2.GetPointData().SetScalars(newscalars)\n",
    "    sh2.Modified()\n",
    "    global plot2\n",
    "    plot2.close()\n",
    "    plot2 = k3d.plot()\n",
    "    plot2.wireframe=True\n",
    "    plot2 += k3d.vtk_poly_data(sh2, color_attribute=(mapid,0,18028))\n",
    "    vertices=[-10,0,-1,\n",
    "           10,0,-1,\n",
    "           10,0, 1,\n",
    "          -10,0, 1]\n",
    "    indices=[0,1,3,1,2,3]\n",
    "    plot2 += k3d.mesh(vertices,indices,attribute=vertex_attribute,color_range=[0,1],color_map=getattr(k3d.matplotlib_color_maps, cms[0]))\n",
    "    plot2.display()\n",
    "\n",
    "interface = HBox(children=[maps, button])\n",
    "display(interface)\n",
    "\n",
    "\n",
    "\n",
    "@interact(x=widgets.Checkbox(value=False,description='Wireframe?'))\n",
    "def f(x):\n",
    "    if len(plot2.objects)>0:\n",
    "        plot2.objects[0].wireframe = x\n",
    "\n",
    "@interact(x=widgets.Checkbox(value=True,description='Visible?'))\n",
    "def h(x):\n",
    "    if len(plot2.objects)>0:\n",
    "        plot2.objects[0].visible = x\n",
    "        \n",
    "\n",
    "@interact(x=cmsel)\n",
    "def g(x):\n",
    "    if len(plot2.objects)>0:\n",
    "        plot2.objects[0].color_map = getattr(k3d.matplotlib_color_maps, x)\n",
    "        a = np.array([[0,1]])\n",
    "        pl.figure(figsize=(9, 1.5))\n",
    "        img = pl.imshow(a, cmap=x)\n",
    "        pl.gca().set_visible(False)\n",
    "        cax = pl.axes([0.1, 0.2, 0.8, 0.6])\n",
    "        pl.colorbar(orientation=\"horizontal\", cax=cax)"
   ]
  },
  {
   "cell_type": "code",
   "execution_count": 66,
   "metadata": {},
   "outputs": [
    {
     "data": {
      "text/plain": [
       "['Accent',\n",
       " 'Autumn',\n",
       " 'Binary',\n",
       " 'Blues',\n",
       " 'Bone',\n",
       " 'BrBG',\n",
       " 'BuGn',\n",
       " 'BuPu',\n",
       " 'Cool',\n",
       " 'Copper',\n",
       " 'Dark2',\n",
       " 'Flag',\n",
       " 'Gist_earth',\n",
       " 'Gist_gray',\n",
       " 'Gist_heat',\n",
       " 'Gist_ncar',\n",
       " 'Gist_rainbow',\n",
       " 'Gist_stern',\n",
       " 'Gist_yarg',\n",
       " 'GnBu',\n",
       " 'Gray',\n",
       " 'Greens',\n",
       " 'Greys',\n",
       " 'Hot',\n",
       " 'OrRd',\n",
       " 'Oranges',\n",
       " 'PRGn',\n",
       " 'Paired',\n",
       " 'Pastel1',\n",
       " 'Pastel2',\n",
       " 'PiYG',\n",
       " 'PuBu',\n",
       " 'PuBuGn',\n",
       " 'PuOr',\n",
       " 'PuRd',\n",
       " 'Purples',\n",
       " 'RdBu',\n",
       " 'RdGy',\n",
       " 'RdPu',\n",
       " 'RdYlBu',\n",
       " 'RdYlGn',\n",
       " 'Reds',\n",
       " 'Set1',\n",
       " 'Set2',\n",
       " 'Set3',\n",
       " 'Spectral',\n",
       " 'YlGn',\n",
       " 'YlGnBu',\n",
       " 'YlOrBr',\n",
       " 'YlOrRd',\n",
       " '__builtins__',\n",
       " '__cached__',\n",
       " '__doc__',\n",
       " '__file__',\n",
       " '__loader__',\n",
       " '__name__',\n",
       " '__package__',\n",
       " '__spec__']"
      ]
     },
     "execution_count": 66,
     "metadata": {},
     "output_type": "execute_result"
    }
   ],
   "source": [
    "dir(k3d.colormaps.matplotlib_color_maps)"
   ]
  },
  {
   "cell_type": "code",
   "execution_count": 55,
   "metadata": {},
   "outputs": [
    {
     "data": {
      "text/plain": [
       "[140449811575136, 140449811876104]"
      ]
     },
     "execution_count": 55,
     "metadata": {},
     "output_type": "execute_result"
    }
   ],
   "source": [
    "plot2.object_ids"
   ]
  },
  {
   "cell_type": "code",
   "execution_count": 14,
   "metadata": {},
   "outputs": [
    {
     "name": "stdout",
     "output_type": "stream",
     "text": [
      "Output()\n"
     ]
    }
   ],
   "source": [
    "print(widg.Output())"
   ]
  },
  {
   "cell_type": "code",
   "execution_count": 17,
   "metadata": {},
   "outputs": [
    {
     "data": {
      "application/vnd.jupyter.widget-view+json": {
       "model_id": "219cd5d6fba04e4db6e4edde73885a37",
       "version_major": 2,
       "version_minor": 0
      },
      "text/plain": [
       "Output()"
      ]
     },
     "metadata": {},
     "output_type": "display_data"
    },
    {
     "data": {
      "application/vnd.jupyter.widget-view+json": {
       "model_id": "004823a2e9c3491f8e796f5b4cdcdd4a",
       "version_major": 2,
       "version_minor": 0
      },
      "text/plain": [
       "Output()"
      ]
     },
     "metadata": {},
     "output_type": "display_data"
    }
   ],
   "source": [
    "plot2.display()\n",
    "plot2.objects[0].color_map=k3d.colormaps.paraview_color_maps.Blue_to_Yellow\n",
    "plot2.display()\n",
    "plot2.close()"
   ]
  },
  {
   "cell_type": "code",
   "execution_count": 53,
   "metadata": {},
   "outputs": [],
   "source": [
    "vertices=[-10,0,-1,\n",
    "           10,0,-1,\n",
    "           10,0, 1,\n",
    "          -10,0, 1]\n",
    "indices=[0,1,3,1,2,3]\n",
    "plot2 += k3d.mesh(vertices,indices,color_map=getattr(k3d.paraview_color_maps, cms[6]))"
   ]
  },
  {
   "cell_type": "code",
   "execution_count": 59,
   "metadata": {},
   "outputs": [],
   "source": [
    "plot2.objects[-1].color_map = getattr(k3d.paraview_color_maps, cms[0])"
   ]
  },
  {
   "cell_type": "code",
   "execution_count": 58,
   "metadata": {},
   "outputs": [
    {
     "data": {
      "text/plain": [
       "[0,\n",
       " 0.141176,\n",
       " 0.14902,\n",
       " 0.2,\n",
       " 0.05,\n",
       " 0.215686,\n",
       " 0.258824,\n",
       " 0.321569,\n",
       " 0.1,\n",
       " 0.243137,\n",
       " 0.368627,\n",
       " 0.380392,\n",
       " 0.15,\n",
       " 0.27451,\n",
       " 0.439216,\n",
       " 0.4,\n",
       " 0.2,\n",
       " 0.32549,\n",
       " 0.501961,\n",
       " 0.384314,\n",
       " 0.25,\n",
       " 0.403922,\n",
       " 0.6,\n",
       " 0.419608,\n",
       " 0.3,\n",
       " 0.486275,\n",
       " 0.701961,\n",
       " 0.454902,\n",
       " 0.35,\n",
       " 0.556863,\n",
       " 0.74902,\n",
       " 0.494118,\n",
       " 0.4,\n",
       " 0.670588,\n",
       " 0.8,\n",
       " 0.545098,\n",
       " 0.5,\n",
       " 0.854902,\n",
       " 0.901961,\n",
       " 0.631373,\n",
       " 0.55,\n",
       " 0.92549,\n",
       " 0.941176,\n",
       " 0.694118,\n",
       " 0.6,\n",
       " 0.960784,\n",
       " 0.94902,\n",
       " 0.776471,\n",
       " 0.65,\n",
       " 0.988235,\n",
       " 0.968627,\n",
       " 0.909804,\n",
       " 0.7,\n",
       " 0.839216,\n",
       " 0.815686,\n",
       " 0.772549,\n",
       " 0.75,\n",
       " 0.701961,\n",
       " 0.662745,\n",
       " 0.615686,\n",
       " 0.8,\n",
       " 0.6,\n",
       " 0.529412,\n",
       " 0.478431,\n",
       " 0.85,\n",
       " 0.501961,\n",
       " 0.403922,\n",
       " 0.360784,\n",
       " 0.9,\n",
       " 0.439216,\n",
       " 0.313725,\n",
       " 0.290196,\n",
       " 1,\n",
       " 0.301961,\n",
       " 0.164706,\n",
       " 0.176471]"
      ]
     },
     "execution_count": 58,
     "metadata": {},
     "output_type": "execute_result"
    }
   ],
   "source": [
    "getattr(k3d.paraview_color_maps, cms[0])"
   ]
  }
 ],
 "metadata": {
  "kernelspec": {
   "display_name": "Python 3",
   "language": "python",
   "name": "python3"
  },
  "language_info": {
   "codemirror_mode": {
    "name": "ipython",
    "version": 3
   },
   "file_extension": ".py",
   "mimetype": "text/x-python",
   "name": "python",
   "nbconvert_exporter": "python",
   "pygments_lexer": "ipython3",
   "version": "3.6.3"
  }
 },
 "nbformat": 4,
 "nbformat_minor": 2
}
