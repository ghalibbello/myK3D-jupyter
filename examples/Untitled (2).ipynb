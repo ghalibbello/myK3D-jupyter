{
 "cells": [
  {
   "cell_type": "markdown",
   "metadata": {},
   "source": [
    "Import required libraries:"
   ]
  },
  {
   "cell_type": "code",
   "execution_count": 7,
   "metadata": {},
   "outputs": [],
   "source": [
    "import os, sys\n",
    "import vtk\n",
    "import numpy as np\n",
    "from vtk.util import numpy_support\n",
    "import k3d\n",
    "from k3d.helpers import download\n",
    "from ipywidgets import interact, interact_manual, interactive, HBox, VBox\n",
    "from ipywidgets import widgets"
   ]
  },
  {
   "cell_type": "markdown",
   "metadata": {},
   "source": [
    "Load color maps:"
   ]
  },
  {
   "cell_type": "code",
   "execution_count": 15,
   "metadata": {},
   "outputs": [],
   "source": [
    "exec(open('../k3d/colormaps/basic_color_maps.py').read())"
   ]
  },
  {
   "cell_type": "code",
   "execution_count": 17,
   "metadata": {},
   "outputs": [
    {
     "data": {
      "application/vnd.jupyter.widget-view+json": {
       "model_id": "09cd2275f6b9450bbe6d57748657631e",
       "version_major": 2,
       "version_minor": 0
      },
      "text/plain": [
       "VBox(children=(HBox(children=(Dropdown(description='Mesh map to display:', options=('Example', 'WallThickness'…"
      ]
     },
     "metadata": {},
     "output_type": "display_data"
    }
   ],
   "source": [
    "vtp_dict = {'Example':'https://raw.githubusercontent.com/ghalib-bello/myK3D-jupyter/master/examples/meanHVOLs.vtp',\n",
    "            'WallThickness':'https://raw.githubusercontent.com/ghalib-bello/myK3D-jupyter/master/examples/exampleLV_wallthick.vtp', \n",
    "            'DistanceProfile':'https://raw.githubusercontent.com/ghalib-bello/myK3D-jupyter/master/examples/exampleLV_distprof.vtp'}\n",
    "vtp_dict_keys = list(vtp_dict.keys())\n",
    "\n",
    "plot2 = k3d.plot()\n",
    "plot2.wireframe=True\n",
    "\n",
    "maps=widgets.Dropdown(options=vtp_dict_keys, value=vtp_dict_keys[0], description='Mesh map to display:')\n",
    "cms =widgets.RadioButtons(options=['CoolWarm','Rainbow','Jet','Gold','BlackBodyRadiation'], value='Rainbow', description='Color Map:',disabled=False)\n",
    "\n",
    "button = widgets.Button(description='Plot')\n",
    "@button.on_click\n",
    "def run_on_click(b):\n",
    "    plot()\n",
    "    \n",
    "def plot(b=None):\n",
    "    mapid = maps.value\n",
    "    filename = download(mapid)\n",
    "    reader = vtk.vtkXMLPolyDataReader()\n",
    "    reader.SetFileName(filename)\n",
    "    reader.Update()\n",
    "    sh2 = reader.GetOutput()\n",
    "    scvtk = sh2.GetPointData().GetScalars()\n",
    "    sc = numpy_support.vtk_to_numpy(scvtk)\n",
    "    global plot2\n",
    "    plot2.close()\n",
    "    plot2 = k3d.plot()\n",
    "    plot2.wireframe=True\n",
    "    plot2 += k3d.vtk_poly_data(sh2, color_attribute=(sh2.GetPointData().GetScalars().GetName(),np.min(sc),np.max(sc)),\n",
    "                              color_map=eval(cms.value))\n",
    "    plot2.display()\n",
    "\n",
    "interface = VBox(children=[HBox(children=[maps, cms]), button])\n",
    "display(interface)"
   ]
  },
  {
   "cell_type": "code",
   "execution_count": null,
   "metadata": {},
   "outputs": [],
   "source": []
  }
 ],
 "metadata": {
  "kernelspec": {
   "display_name": "Python 3",
   "language": "python",
   "name": "python3"
  },
  "language_info": {
   "codemirror_mode": {
    "name": "ipython",
    "version": 3
   },
   "file_extension": ".py",
   "mimetype": "text/x-python",
   "name": "python",
   "nbconvert_exporter": "python",
   "pygments_lexer": "ipython3",
   "version": "3.6.3"
  }
 },
 "nbformat": 4,
 "nbformat_minor": 2
}
